{
 "cells": [
  {
   "cell_type": "markdown",
   "metadata": {},
   "source": [
    "### Import libraries"
   ]
  },
  {
   "cell_type": "code",
   "execution_count": 48,
   "metadata": {},
   "outputs": [],
   "source": [
    "# General\n",
    "import pandas as pd\n",
    "import numpy as np\n",
    "import json\n",
    "\n",
    "# Scraping\n",
    "import praw\n",
    "\n",
    "# Text processing\n",
    "from collections import Counter\n",
    "\n",
    "# Visualisation\n",
    "import matplotlib.pyplot as plt\n",
    "from PIL import Image\n",
    "import wordcloud\n",
    "from wordcloud import WordCloud, STOPWORDS, ImageColorGenerator"
   ]
  },
  {
   "cell_type": "markdown",
   "metadata": {},
   "source": [
    "### Scraping comments using <a href=https://praw.readthedocs.io/en/stable/tutorials/comments.html#extracting-comments>PRAW</a>"
   ]
  },
  {
   "cell_type": "code",
   "execution_count": 21,
   "metadata": {},
   "outputs": [],
   "source": [
    "# Load configuration\n",
    "with open(\"config.json\", \"r\") as config_file:\n",
    "    config = json.load(config_file)\n",
    "\n",
    "client_id = config[\"client_id\"]\n",
    "client_secret = config[\"client_secret\"]"
   ]
  },
  {
   "cell_type": "code",
   "execution_count": 14,
   "metadata": {},
   "outputs": [],
   "source": [
    "# Provide authentication. You can scrape comments with just read-only access, so there is no need to provide account credentials (username & password)\n",
    "reddit = praw.Reddit(\n",
    "    client_id=client_id,\n",
    "    client_secret=client_secret,\n",
    "    password='',\n",
    "    username='',\n",
    "    user_agent='YOURUSERAGENT',\n",
    "    check_for_async=False\n",
    ")"
   ]
  },
  {
   "cell_type": "code",
   "execution_count": 18,
   "metadata": {},
   "outputs": [
    {
     "name": "stdout",
     "output_type": "stream",
     "text": [
      "gunners\n",
      " The Arsenal on Reddit\n"
     ]
    }
   ],
   "source": [
    "# Create a subreddit instance\n",
    "subreddit = reddit.subreddit('gunners')\n",
    "\n",
    "print(subreddit.display_name)\n",
    "print(subreddit.title)"
   ]
  },
  {
   "cell_type": "code",
   "execution_count": null,
   "metadata": {},
   "outputs": [],
   "source": [
    "# Create a submission instance\n",
    "submission = reddit.submission('1bdyge4')\n",
    "submission.comments.list()[1].__dict__"
   ]
  },
  {
   "cell_type": "code",
   "execution_count": 37,
   "metadata": {},
   "outputs": [],
   "source": [
    "#create empty list\n",
    "comments_list = []\n",
    "\n",
    "# loop through comment objects and append attributes to list\n",
    "submission.comments.replace_more(limit=None)\n",
    "for comment in submission.comments.list():\n",
    "  comments_list.append([comment.score, comment.author, comment.body])\n",
    "\n",
    "# convert list to dataframe\n",
    "df = pd.DataFrame(comments_list)\n",
    "\n",
    "# rename columns\n",
    "df.columns = ['score', 'author', 'content']"
   ]
  },
  {
   "cell_type": "code",
   "execution_count": 39,
   "metadata": {},
   "outputs": [
    {
     "data": {
      "text/html": [
       "<div>\n",
       "<style scoped>\n",
       "    .dataframe tbody tr th:only-of-type {\n",
       "        vertical-align: middle;\n",
       "    }\n",
       "\n",
       "    .dataframe tbody tr th {\n",
       "        vertical-align: top;\n",
       "    }\n",
       "\n",
       "    .dataframe thead th {\n",
       "        text-align: right;\n",
       "    }\n",
       "</style>\n",
       "<table border=\"1\" class=\"dataframe\">\n",
       "  <thead>\n",
       "    <tr style=\"text-align: right;\">\n",
       "      <th></th>\n",
       "      <th>score</th>\n",
       "      <th>author</th>\n",
       "      <th>content</th>\n",
       "    </tr>\n",
       "  </thead>\n",
       "  <tbody>\n",
       "    <tr>\n",
       "      <th>0</th>\n",
       "      <td>1510</td>\n",
       "      <td>Meu_14</td>\n",
       "      <td>Fair play thats pretty god dammed impressive.</td>\n",
       "    </tr>\n",
       "    <tr>\n",
       "      <th>1</th>\n",
       "      <td>866</td>\n",
       "      <td>slightlyhigh7</td>\n",
       "      <td>And he’s still pretty fuckin good.. I didn’t e...</td>\n",
       "    </tr>\n",
       "    <tr>\n",
       "      <th>2</th>\n",
       "      <td>609</td>\n",
       "      <td>micsare4swingng</td>\n",
       "      <td>This is such a cool set of photos. Everything ...</td>\n",
       "    </tr>\n",
       "    <tr>\n",
       "      <th>3</th>\n",
       "      <td>290</td>\n",
       "      <td>Francis-c92</td>\n",
       "      <td>With Odegaard as well\\n\\nhttps://preview.redd....</td>\n",
       "    </tr>\n",
       "    <tr>\n",
       "      <th>4</th>\n",
       "      <td>327</td>\n",
       "      <td>shekdown</td>\n",
       "      <td>He was so good in both legs. Absolutely incred...</td>\n",
       "    </tr>\n",
       "    <tr>\n",
       "      <th>5</th>\n",
       "      <td>182</td>\n",
       "      <td>AfroPanther</td>\n",
       "      <td>Great player. Also despite his reputation he s...</td>\n",
       "    </tr>\n",
       "    <tr>\n",
       "      <th>6</th>\n",
       "      <td>154</td>\n",
       "      <td>remote_crocodile</td>\n",
       "      <td>That's a mad photo</td>\n",
       "    </tr>\n",
       "    <tr>\n",
       "      <th>7</th>\n",
       "      <td>105</td>\n",
       "      <td>pp1911</td>\n",
       "      <td>41 years old and he played 120 minutes in UCL ...</td>\n",
       "    </tr>\n",
       "    <tr>\n",
       "      <th>8</th>\n",
       "      <td>92</td>\n",
       "      <td>Mozilla11</td>\n",
       "      <td>Amazing photo. I hope he sees this and realize...</td>\n",
       "    </tr>\n",
       "    <tr>\n",
       "      <th>9</th>\n",
       "      <td>47</td>\n",
       "      <td>roosterman22</td>\n",
       "      <td>Can’t tell by looking only at Pepe which is th...</td>\n",
       "    </tr>\n",
       "  </tbody>\n",
       "</table>\n",
       "</div>"
      ],
      "text/plain": [
       "   score            author                                            content\n",
       "0   1510            Meu_14      Fair play thats pretty god dammed impressive.\n",
       "1    866     slightlyhigh7  And he’s still pretty fuckin good.. I didn’t e...\n",
       "2    609   micsare4swingng  This is such a cool set of photos. Everything ...\n",
       "3    290       Francis-c92  With Odegaard as well\\n\\nhttps://preview.redd....\n",
       "4    327          shekdown  He was so good in both legs. Absolutely incred...\n",
       "5    182       AfroPanther  Great player. Also despite his reputation he s...\n",
       "6    154  remote_crocodile                                 That's a mad photo\n",
       "7    105            pp1911  41 years old and he played 120 minutes in UCL ...\n",
       "8     92         Mozilla11  Amazing photo. I hope he sees this and realize...\n",
       "9     47      roosterman22  Can’t tell by looking only at Pepe which is th..."
      ]
     },
     "execution_count": 39,
     "metadata": {},
     "output_type": "execute_result"
    }
   ],
   "source": [
    "df.head(10)"
   ]
  },
  {
   "cell_type": "code",
   "execution_count": 40,
   "metadata": {},
   "outputs": [
    {
     "name": "stdout",
     "output_type": "stream",
     "text": [
      "195 comments in post.\n"
     ]
    }
   ],
   "source": [
    "print(str(len(df))+' comments in post.')"
   ]
  },
  {
   "cell_type": "markdown",
   "metadata": {},
   "source": [
    "### Text Processing"
   ]
  },
  {
   "cell_type": "code",
   "execution_count": 47,
   "metadata": {},
   "outputs": [],
   "source": [
    "# Split comments into a list of words\n",
    "column = df['content']\n",
    "words = []\n",
    "for sentence in column:\n",
    "    sentence_words = sentence.lower().split()\n",
    "    words.extend(sentence_words)\n",
    "\n",
    "# Define stop words\n",
    "stop_words = set(STOPWORDS)\n",
    "words = [word for word in words if word not in stop_words]"
   ]
  },
  {
   "cell_type": "code",
   "execution_count": 51,
   "metadata": {},
   "outputs": [
    {
     "data": {
      "text/html": [
       "<div>\n",
       "<style scoped>\n",
       "    .dataframe tbody tr th:only-of-type {\n",
       "        vertical-align: middle;\n",
       "    }\n",
       "\n",
       "    .dataframe tbody tr th {\n",
       "        vertical-align: top;\n",
       "    }\n",
       "\n",
       "    .dataframe thead th {\n",
       "        text-align: right;\n",
       "    }\n",
       "</style>\n",
       "<table border=\"1\" class=\"dataframe\">\n",
       "  <thead>\n",
       "    <tr style=\"text-align: right;\">\n",
       "      <th></th>\n",
       "      <th>count</th>\n",
       "    </tr>\n",
       "  </thead>\n",
       "  <tbody>\n",
       "    <tr>\n",
       "      <th>pepe</th>\n",
       "      <td>30</td>\n",
       "    </tr>\n",
       "    <tr>\n",
       "      <th>one</th>\n",
       "      <td>16</td>\n",
       "    </tr>\n",
       "    <tr>\n",
       "      <th>player</th>\n",
       "      <td>16</td>\n",
       "    </tr>\n",
       "    <tr>\n",
       "      <th>still</th>\n",
       "      <td>14</td>\n",
       "    </tr>\n",
       "    <tr>\n",
       "      <th>old</th>\n",
       "      <td>12</td>\n",
       "    </tr>\n",
       "    <tr>\n",
       "      <th>...</th>\n",
       "      <td>...</td>\n",
       "    </tr>\n",
       "    <tr>\n",
       "      <th>side</th>\n",
       "      <td>1</td>\n",
       "    </tr>\n",
       "    <tr>\n",
       "      <th>effect</th>\n",
       "      <td>1</td>\n",
       "    </tr>\n",
       "    <tr>\n",
       "      <th>fountain</th>\n",
       "      <td>1</td>\n",
       "    </tr>\n",
       "    <tr>\n",
       "      <th>youth</th>\n",
       "      <td>1</td>\n",
       "    </tr>\n",
       "    <tr>\n",
       "      <th>horse</th>\n",
       "      <td>1</td>\n",
       "    </tr>\n",
       "  </tbody>\n",
       "</table>\n",
       "<p>1080 rows × 1 columns</p>\n",
       "</div>"
      ],
      "text/plain": [
       "          count\n",
       "pepe         30\n",
       "one          16\n",
       "player       16\n",
       "still        14\n",
       "old          12\n",
       "...         ...\n",
       "side          1\n",
       "effect        1\n",
       "fountain      1\n",
       "youth         1\n",
       "horse         1\n",
       "\n",
       "[1080 rows x 1 columns]"
      ]
     },
     "execution_count": 51,
     "metadata": {},
     "output_type": "execute_result"
    }
   ],
   "source": [
    "# Get a dataframe of common words in the comment section.\n",
    "word_counts = Counter(words)\n",
    "word_counts_df = pd.DataFrame.from_dict(word_counts, orient='index', columns=['count'])\n",
    "word_counts_df = word_counts_df.sort_values('count', ascending=False)\n",
    "word_counts_df"
   ]
  },
  {
   "cell_type": "code",
   "execution_count": null,
   "metadata": {},
   "outputs": [],
   "source": []
  }
 ],
 "metadata": {
  "kernelspec": {
   "display_name": "Python 3",
   "language": "python",
   "name": "python3"
  },
  "language_info": {
   "codemirror_mode": {
    "name": "ipython",
    "version": 3
   },
   "file_extension": ".py",
   "mimetype": "text/x-python",
   "name": "python",
   "nbconvert_exporter": "python",
   "pygments_lexer": "ipython3",
   "version": "3.11.5"
  },
  "orig_nbformat": 4
 },
 "nbformat": 4,
 "nbformat_minor": 2
}
